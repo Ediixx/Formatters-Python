{
 "cells": [
  {
   "cell_type": "markdown",
   "metadata": {},
   "source": [
    "## Formatter Isort"
   ]
  },
  {
   "cell_type": "markdown",
   "metadata": {},
   "source": [
    "##### CÓDIGO ORIGINAL"
   ]
  },
  {
   "cell_type": "code",
   "execution_count": null,
   "metadata": {},
   "outputs": [
    {
     "name": "stdout",
     "output_type": "stream",
     "text": [
      "3\n",
      "2\n",
      "8\n",
      "5.0\n"
     ]
    }
   ],
   "source": [
    "import math\n",
    "import numpy as np\n",
    "import pandas as pd\n",
    "def suma(a, b):\n",
    "    return a + b\n",
    "def resta(a, b):\n",
    "    return a - b\n",
    "def multiplicacion(a, b):\n",
    "    return a * b\n",
    "def division(a, b):\n",
    "    return a / b\n",
    "print(suma(1, 2))\n",
    "print(resta(5, 3))\n",
    "print(multiplicacion(4, 2))\n",
    "print(division(10, 2))\n"
   ]
  },
  {
   "cell_type": "markdown",
   "metadata": {},
   "source": [
    "##### CÓDIGO CON FORMATTER"
   ]
  },
  {
   "cell_type": "code",
   "execution_count": 6,
   "metadata": {},
   "outputs": [
    {
     "name": "stdout",
     "output_type": "stream",
     "text": [
      "3\n",
      "2\n",
      "8\n",
      "5.0\n"
     ]
    }
   ],
   "source": [
    "import math\n",
    "\n",
    "import numpy as np\n",
    "import pandas as pd\n",
    "\n",
    "\n",
    "def suma(a, b):\n",
    "    return a + b\n",
    "def resta(a, b):\n",
    "    return a - b\n",
    "def multiplicacion(a, b):\n",
    "    return a * b\n",
    "def division(a, b):\n",
    "    return a / b\n",
    "print(suma(1, 2))\n",
    "print(resta(5, 3))\n",
    "print(multiplicacion(4, 2))\n",
    "print(division(10, 2))"
   ]
  }
 ],
 "metadata": {
  "kernelspec": {
   "display_name": "Python 3",
   "language": "python",
   "name": "python3"
  },
  "language_info": {
   "codemirror_mode": {
    "name": "ipython",
    "version": 3
   },
   "file_extension": ".py",
   "mimetype": "text/x-python",
   "name": "python",
   "nbconvert_exporter": "python",
   "pygments_lexer": "ipython3",
   "version": "3.11.0"
  }
 },
 "nbformat": 4,
 "nbformat_minor": 2
}
